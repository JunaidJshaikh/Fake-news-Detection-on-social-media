{
 "cells": [
  {
   "cell_type": "markdown",
   "id": "1efa6b85",
   "metadata": {},
   "source": [
    "# Detection and Classification Fake newscon social media in the context of covid-19."
   ]
  },
  {
   "cell_type": "markdown",
   "id": "d0c7860f",
   "metadata": {},
   "source": [
    "## Dataset: CoAid Dataset(Limen C. and Lee D.,2020)"
   ]
  },
  {
   "cell_type": "code",
   "execution_count": 2,
   "id": "c4a417c1",
   "metadata": {},
   "outputs": [
    {
     "name": "stdout",
     "output_type": "stream",
     "text": [
      "(925, 16)\n",
      "(4532, 11)\n",
      "                                                  title Label\n",
      "0     Remdesivir & COVID Studies Find Different Results     1\n",
      "1     As Many as 50 Percent of People with COVID-19 ...     1\n",
      "2     Obesity May Alter Immune System Response to CO...     1\n",
      "3     People with Developmental and Behavioral Disor...     1\n",
      "4     Three Countries Have Kept Coronavirus in Check...     1\n",
      "...                                                 ...   ...\n",
      "5452  ÒMass vaccination for COVID-19 in Senegal was ...     0\n",
      "5453  COVID Worsens Mental Health In The LGBTQ Commu...     1\n",
      "5454  A large, country-randomized controlled trial w...     0\n",
      "5455                 Changing Paths During the Pandemic     1\n",
      "5456  Biden claims that Trump eliminated the White H...     0\n",
      "\n",
      "[5457 rows x 2 columns]\n"
     ]
    },
    {
     "name": "stderr",
     "output_type": "stream",
     "text": [
      "/var/folders/8w/2387h3ts2635p63jx_mp_1d40000gn/T/ipykernel_65627/2573407772.py:33: FutureWarning: The frame.append method is deprecated and will be removed from pandas in a future version. Use pandas.concat instead.\n",
      "  out = final_fake_data.append(final_real_data)\n"
     ]
    }
   ],
   "source": [
    "\n",
    "import pandas as pd\n",
    "#Reading the data from csv file.\n",
    "df_0=pd.read_csv('real1.csv')\n",
    "\n",
    "df_1=pd.read_csv('fake1.csv')\n",
    "\n",
    "df_2=pd.read_csv('real2.csv')\n",
    "\n",
    "df_3=pd.read_csv('fake2.csv')\n",
    "\n",
    "df_4=pd.read_csv('real3.csv')\n",
    "\n",
    "df_5=pd.read_csv('fake3.csv')\n",
    "\n",
    "df_6=pd.read_csv('real4.csv')\n",
    "\n",
    "df_7=pd.read_csv('fake4.csv')\n",
    "\n",
    "#Adding all the data together.\n",
    "\n",
    "result_fake = pd.concat([df_1,df_3,df_5,df_7], axis=0)\n",
    "result_real = pd.concat([df_0,df_2,df_4,df_6], axis=0)\n",
    "\n",
    "\n",
    "result_fake['Label'] = '0' #For fake news Label is 0\n",
    "print(result_fake.shape)\n",
    "final_fake_data = result_fake[['title', 'Label']]\n",
    "\n",
    "result_real['Label'] = '1' #For true news Label is 1\n",
    "print(result_real.shape)\n",
    "final_real_data = result_real[['title', 'Label']]\n",
    "\n",
    "out = final_fake_data.append(final_real_data)\n",
    "\n",
    "out=out.dropna()#To drop blank entries\n",
    "\n",
    "out_copy = out.copy() #copying of data\n",
    "\n",
    "\n",
    "out_new_copy = out_copy.sample(frac=1)\n",
    "out_new_copy = out_new_copy.reset_index(inplace = False,drop = True) #For shuffling the data\n",
    "print(out_new_copy)\n"
   ]
  },
  {
   "cell_type": "markdown",
   "id": "3bbd28f7",
   "metadata": {},
   "source": [
    "## Data pre-processing"
   ]
  },
  {
   "cell_type": "code",
   "execution_count": 3,
   "id": "faed15be",
   "metadata": {},
   "outputs": [
    {
     "name": "stderr",
     "output_type": "stream",
     "text": [
      "[nltk_data] Downloading package stopwords to /Users/mac/nltk_data...\n",
      "[nltk_data]   Package stopwords is already up-to-date!\n",
      "[nltk_data] Downloading package punkt to /Users/mac/nltk_data...\n",
      "[nltk_data]   Package punkt is already up-to-date!\n"
     ]
    }
   ],
   "source": [
    "import re\n",
    "import nltk #library for data processing\n",
    "nltk.download('stopwords')\n",
    "nltk.download('punkt')\n",
    "from nltk.corpus import stopwords\n",
    "from nltk.stem.porter import PorterStemmer\n",
    "ps = PorterStemmer()\n",
    "corpus = []\n",
    "for i in range(0, len(out_new_copy)):\n",
    "    re_view = re.sub(r'[^a-zA-Z0-9]', ' ',out_new_copy['title'][i])\n",
    "    re_view = re_view.lower()\n",
    "    re_view = re_view.split()\n",
    "    \n",
    "    #re_view = [ps.stem(word) for word in re_view if not word in stopwords.words('english')] #comment this line if you want to run Word2Vec.\n",
    "    re_view = ' '.join(re_view)\n",
    "    corpus.append(re_view)"
   ]
  },
  {
   "cell_type": "code",
   "execution_count": 4,
   "id": "a1dd8b33",
   "metadata": {},
   "outputs": [
    {
     "data": {
      "text/plain": [
       "6742"
      ]
     },
     "execution_count": 4,
     "metadata": {},
     "output_type": "execute_result"
    }
   ],
   "source": [
    "\n",
    "import gensim\n",
    "import numpy as np\n",
    "\n",
    "\n",
    "\n",
    "y = np.asarray(out_new_copy['Label'].astype(str).astype(int))\n",
    "\n",
    "\n",
    "X = [d.split() for d in corpus]\n",
    "#Word2Vec model\n",
    "word2vec_model = gensim.models.Word2Vec(sentences=X, window=10, min_count=1)\n",
    "\n",
    "\n",
    "word2vec_model.wv.vectors.shape[0]\n",
    "\n"
   ]
  },
  {
   "cell_type": "code",
   "execution_count": 5,
   "id": "c2f6954c",
   "metadata": {},
   "outputs": [
    {
     "name": "stdout",
     "output_type": "stream",
     "text": [
      "[1 1 1 ... 0 1 0]\n"
     ]
    }
   ],
   "source": [
    "print(y)"
   ]
  },
  {
   "cell_type": "code",
   "execution_count": null,
   "id": "5c53983a",
   "metadata": {},
   "outputs": [],
   "source": [
    "print(X)"
   ]
  },
  {
   "cell_type": "code",
   "execution_count": 7,
   "id": "430fb8d7",
   "metadata": {},
   "outputs": [
    {
     "name": "stderr",
     "output_type": "stream",
     "text": [
      "2024-07-16 17:04:32.931137: I tensorflow/core/platform/cpu_feature_guard.cc:210] This TensorFlow binary is optimized to use available CPU instructions in performance-critical operations.\n",
      "To enable the following instructions: AVX2 FMA, in other operations, rebuild TensorFlow with the appropriate compiler flags.\n"
     ]
    }
   ],
   "source": [
    "import tensorflow as tf\n",
    "\n",
    "from tensorflow.keras.preprocessing.text import Tokenizer\n",
    "# For Tokeniztion\n",
    "tokenizer = Tokenizer()\n",
    "tokenizer.fit_on_texts(X)"
   ]
  },
  {
   "cell_type": "code",
   "execution_count": 8,
   "id": "9c808c2b",
   "metadata": {},
   "outputs": [],
   "source": [
    "X = tokenizer.texts_to_sequences(X)\n",
    "#tokenizer.word_index"
   ]
  },
  {
   "cell_type": "code",
   "execution_count": null,
   "id": "ecec3193",
   "metadata": {},
   "outputs": [],
   "source": [
    "print(X)"
   ]
  },
  {
   "cell_type": "code",
   "execution_count": 10,
   "id": "e9d37bb5",
   "metadata": {},
   "outputs": [
    {
     "data": {
      "text/plain": [
       "87"
      ]
     },
     "execution_count": 10,
     "metadata": {},
     "output_type": "execute_result"
    }
   ],
   "source": [
    "import numpy as np\n",
    "\n",
    "nos = np.array([len(x) for x in X])\n",
    "len(nos[nos>30])\n"
   ]
  },
  {
   "cell_type": "code",
   "execution_count": 11,
   "id": "4018f779",
   "metadata": {},
   "outputs": [],
   "source": [
    "import keras\n",
    "from keras.preprocessing.sequence import pad_sequences\n",
    "maxlen = 100\n",
    "X = pad_sequences(X,maxlen = maxlen)# for padding\n",
    "#len(X[0])"
   ]
  },
  {
   "cell_type": "code",
   "execution_count": 12,
   "id": "fa4ea96b",
   "metadata": {},
   "outputs": [
    {
     "name": "stdout",
     "output_type": "stream",
     "text": [
      "[[   0    0    0 ...  578  622  261]\n",
      " [   0    0    0 ...   31    3   62]\n",
      " [   0    0    0 ...    4    1    2]\n",
      " ...\n",
      " [   0    0    0 ...  600  115  182]\n",
      " [   0    0    0 ...   23    3   16]\n",
      " [   0    0    0 ...  219   16 1898]]\n"
     ]
    }
   ],
   "source": [
    "print(X)"
   ]
  },
  {
   "cell_type": "code",
   "execution_count": 13,
   "id": "34d3630d",
   "metadata": {},
   "outputs": [],
   "source": [
    "vocab_size = len(tokenizer.word_index) + 1\n",
    "vocab = tokenizer.word_index"
   ]
  },
  {
   "cell_type": "code",
   "execution_count": 14,
   "id": "b28f8625",
   "metadata": {},
   "outputs": [],
   "source": [
    "def weight_matrix(model): #Generation of matrix\n",
    "  weight_matrix = np.zeros((vocab_size,100))\n",
    "\n",
    "  for word ,i in vocab.items():\n",
    "    weight_matrix[i] = model.wv[word]\n",
    "\n",
    "  return weight_matrix\n"
   ]
  },
  {
   "cell_type": "code",
   "execution_count": 15,
   "id": "024e1a4e",
   "metadata": {},
   "outputs": [
    {
     "data": {
      "text/plain": [
       "(6743, 100)"
      ]
     },
     "execution_count": 15,
     "metadata": {},
     "output_type": "execute_result"
    }
   ],
   "source": [
    "#Embedding of matrix.\n",
    "embedding_vec = weight_matrix(word2vec_model)\n",
    "embedding_vec.shape"
   ]
  },
  {
   "cell_type": "code",
   "execution_count": 16,
   "id": "e5002337",
   "metadata": {},
   "outputs": [
    {
     "name": "stderr",
     "output_type": "stream",
     "text": [
      "/Users/mac/anaconda3/lib/python3.11/site-packages/keras/src/layers/core/embedding.py:90: UserWarning: Argument `input_length` is deprecated. Just remove it.\n",
      "  warnings.warn(\n"
     ]
    }
   ],
   "source": [
    "import tensorflow \n",
    "import tensorflow.keras\n",
    "from keras.layers import Embedding\n",
    "from keras.layers import LSTM\n",
    "from keras.layers import Dense\n",
    "from tensorflow.keras.optimizers import Adam\n",
    "\n",
    "model = keras.Sequential()\n",
    "model.add(Embedding(vocab_size,output_dim = 100,weights = [embedding_vec],input_length = maxlen,trainable = False))\n",
    "model.add(LSTM(units = 128))\n",
    "model.add(Dense(1,activation = 'sigmoid'))\n",
    "opt = tensorflow.keras.optimizers.Adam(learning_rate=0.01)\n",
    "model.compile(optimizer=opt,\n",
    "              loss=tensorflow.keras.losses.BinaryCrossentropy(),metrics = ['acc'])"
   ]
  },
  {
   "cell_type": "code",
   "execution_count": 17,
   "id": "783df934",
   "metadata": {},
   "outputs": [],
   "source": [
    "#splitting of data\n",
    "from sklearn.model_selection import train_test_split\n",
    "X_train, X_test, y_train, y_test = train_test_split(X, y)\n"
   ]
  },
  {
   "cell_type": "code",
   "execution_count": 18,
   "id": "5f879728",
   "metadata": {},
   "outputs": [
    {
     "name": "stdout",
     "output_type": "stream",
     "text": [
      "Epoch 1/10\n",
      "\u001b[1m90/90\u001b[0m \u001b[32m━━━━━━━━━━━━━━━━━━━━\u001b[0m\u001b[37m\u001b[0m \u001b[1m18s\u001b[0m 161ms/step - acc: 0.7930 - loss: 0.5076 - val_acc: 0.8282 - val_loss: 0.4601\n",
      "Epoch 2/10\n",
      "\u001b[1m90/90\u001b[0m \u001b[32m━━━━━━━━━━━━━━━━━━━━\u001b[0m\u001b[37m\u001b[0m \u001b[1m19s\u001b[0m 141ms/step - acc: 0.8317 - loss: 0.4633 - val_acc: 0.8282 - val_loss: 0.4587\n",
      "Epoch 3/10\n",
      "\u001b[1m90/90\u001b[0m \u001b[32m━━━━━━━━━━━━━━━━━━━━\u001b[0m\u001b[37m\u001b[0m \u001b[1m13s\u001b[0m 149ms/step - acc: 0.8441 - loss: 0.4339 - val_acc: 0.8282 - val_loss: 0.4647\n",
      "Epoch 4/10\n",
      "\u001b[1m90/90\u001b[0m \u001b[32m━━━━━━━━━━━━━━━━━━━━\u001b[0m\u001b[37m\u001b[0m \u001b[1m12s\u001b[0m 137ms/step - acc: 0.8386 - loss: 0.4413 - val_acc: 0.8282 - val_loss: 0.4584\n",
      "Epoch 5/10\n",
      "\u001b[1m90/90\u001b[0m \u001b[32m━━━━━━━━━━━━━━━━━━━━\u001b[0m\u001b[37m\u001b[0m \u001b[1m13s\u001b[0m 147ms/step - acc: 0.8373 - loss: 0.4502 - val_acc: 0.8282 - val_loss: 0.4645\n",
      "Epoch 6/10\n",
      "\u001b[1m90/90\u001b[0m \u001b[32m━━━━━━━━━━━━━━━━━━━━\u001b[0m\u001b[37m\u001b[0m \u001b[1m16s\u001b[0m 176ms/step - acc: 0.8299 - loss: 0.4606 - val_acc: 0.8282 - val_loss: 0.4649\n",
      "Epoch 7/10\n",
      "\u001b[1m90/90\u001b[0m \u001b[32m━━━━━━━━━━━━━━━━━━━━\u001b[0m\u001b[37m\u001b[0m \u001b[1m14s\u001b[0m 155ms/step - acc: 0.8401 - loss: 0.4224 - val_acc: 0.8282 - val_loss: 0.4028\n",
      "Epoch 8/10\n",
      "\u001b[1m90/90\u001b[0m \u001b[32m━━━━━━━━━━━━━━━━━━━━\u001b[0m\u001b[37m\u001b[0m \u001b[1m12s\u001b[0m 135ms/step - acc: 0.8363 - loss: 0.4001 - val_acc: 0.8534 - val_loss: 0.3627\n",
      "Epoch 9/10\n",
      "\u001b[1m90/90\u001b[0m \u001b[32m━━━━━━━━━━━━━━━━━━━━\u001b[0m\u001b[37m\u001b[0m \u001b[1m15s\u001b[0m 164ms/step - acc: 0.8413 - loss: 0.3838 - val_acc: 0.8436 - val_loss: 0.3672\n",
      "Epoch 10/10\n",
      "\u001b[1m90/90\u001b[0m \u001b[32m━━━━━━━━━━━━━━━━━━━━\u001b[0m\u001b[37m\u001b[0m \u001b[1m19s\u001b[0m 211ms/step - acc: 0.8440 - loss: 0.3812 - val_acc: 0.8583 - val_loss: 0.3570\n"
     ]
    },
    {
     "data": {
      "text/plain": [
       "<keras.src.callbacks.history.History at 0x145896c10>"
      ]
     },
     "execution_count": 18,
     "metadata": {},
     "output_type": "execute_result"
    }
   ],
   "source": [
    "model.fit(X_train,y_train,validation_split=0.3,epochs=10)"
   ]
  },
  {
   "cell_type": "code",
   "execution_count": 19,
   "id": "50244403",
   "metadata": {},
   "outputs": [
    {
     "name": "stdout",
     "output_type": "stream",
     "text": [
      "\u001b[1m43/43\u001b[0m \u001b[32m━━━━━━━━━━━━━━━━━━━━\u001b[0m\u001b[37m\u001b[0m \u001b[1m3s\u001b[0m 59ms/step\n"
     ]
    }
   ],
   "source": [
    "y_pred = (model.predict(X_test) >=0.5).astype(int) \n",
    "#print(y_pred)"
   ]
  },
  {
   "cell_type": "code",
   "execution_count": 20,
   "id": "d17ba2f3",
   "metadata": {},
   "outputs": [],
   "source": [
    "from sklearn.metrics import accuracy_score, precision_score, recall_score, f1_score, confusion_matrix\n",
    "\n",
    "accuracy = accuracy_score(y_test,y_pred)\n",
    "precision= precision_score(y_test,y_pred,average='weighted')\n",
    "recall = recall_score(y_test,y_pred,average='weighted')\n",
    "f1 = f1_score(y_test,y_pred,average='weighted')"
   ]
  },
  {
   "cell_type": "code",
   "execution_count": 21,
   "id": "125c138d",
   "metadata": {},
   "outputs": [
    {
     "name": "stdout",
     "output_type": "stream",
     "text": [
      "accuracy 0.852014652014652\n",
      "f1_score 0.811802830913942\n",
      "precision 0.8531002877695297\n",
      "recall 0.852014652014652\n"
     ]
    }
   ],
   "source": [
    "#print(\"Loss\",loss)\n",
    "print(\"accuracy\",accuracy)\n",
    "print(\"f1_score\",f1)\n",
    "print(\"precision\",precision)\n",
    "print(\"recall\",recall)"
   ]
  },
  {
   "cell_type": "code",
   "execution_count": 22,
   "id": "914d5154",
   "metadata": {},
   "outputs": [],
   "source": [
    "#cheecking of model.\n",
    "x = [\"The COVID-19 virus cannot spread in areas sprayed with eucalyptus oil vapor.\"]\n",
    "#x = [\"A test on video with a gas detector shows that face masks result in dangerous oxygen levels for the wearer.\"]\n",
    "x = tokenizer.texts_to_sequences(x)\n",
    "x = pad_sequences(x,maxlen=maxlen)\n",
    "#print(x)"
   ]
  },
  {
   "cell_type": "code",
   "execution_count": 23,
   "id": "70715ef3",
   "metadata": {},
   "outputs": [
    {
     "name": "stdout",
     "output_type": "stream",
     "text": [
      "\u001b[1m1/1\u001b[0m \u001b[32m━━━━━━━━━━━━━━━━━━━━\u001b[0m\u001b[37m\u001b[0m \u001b[1m0s\u001b[0m 38ms/step\n"
     ]
    },
    {
     "data": {
      "text/plain": [
       "array([[1]])"
      ]
     },
     "execution_count": 23,
     "metadata": {},
     "output_type": "execute_result"
    }
   ],
   "source": [
    "#prediction of model\n",
    "#0 for fake and 1 for true\n",
    "#model.predict(x)\n",
    "(model.predict(x) >=0.5).astype(int)"
   ]
  },
  {
   "cell_type": "code",
   "execution_count": 32,
   "id": "72f6e242",
   "metadata": {},
   "outputs": [],
   "source": [
    "#uncomment the section which one need to use.\n",
    "from sklearn.feature_extraction.text import CountVectorizer, TfidfVectorizer, HashingVectorizer\n",
    "#by using CountVectorizer\n",
    "#from sklearn.feature_extraction.text import CountVectorizer\n",
    "#cv = CountVectorizer(max_features=5000,ngram_range=(1,3))\n",
    "#X = cv.fit_transform(corpus).toarray()\n",
    "\n",
    "#by using TfidfVectorizer(for multinomial naive bayes alpha=0.2 works best)\n",
    "#from sklearn.feature_extraction.text import TfidfVectorizer\n",
    "#cv = TfidfVectorizer()\n",
    "#X = cv.fit_transform(corpus).toarray()\n",
    "\n",
    "#by using HashingVectorizer(no features names in hashingvectorizer)\n",
    "from sklearn.feature_extraction.text import HashingVectorizer\n",
    "cv = HashingVectorizer(n_features=5000,alternate_sign=False)\n",
    "X = cv.fit_transform(corpus).toarray()\n",
    "\n",
    "#print(X)\n",
    "#X.shape"
   ]
  },
  {
   "cell_type": "code",
   "execution_count": 33,
   "id": "9d142cd3",
   "metadata": {},
   "outputs": [],
   "source": [
    "y = out_new_copy['Label']\n",
    "#y.shape\n",
    "#print(y)\n"
   ]
  },
  {
   "cell_type": "code",
   "execution_count": 34,
   "id": "fc748bd2",
   "metadata": {},
   "outputs": [],
   "source": [
    "#Splitting of data\n",
    "from sklearn.model_selection import train_test_split\n",
    "X_train, X_test, y_train, y_test = train_test_split(X, y, test_size=0.33, random_state=0)\n",
    "\n",
    "pd.set_option(\"display.max_rows\", 500)\n",
    "#count_df = pd.DataFrame(X, columns=cv.get_feature_names())\n",
    "\n",
    "#print(count_df)"
   ]
  },
  {
   "cell_type": "code",
   "execution_count": 35,
   "id": "1fc8f437",
   "metadata": {},
   "outputs": [],
   "source": [
    "#For plotting the confussion matrix.\n",
    "import matplotlib.pyplot as plt\n",
    "def plot_confusion_matrix(cm, classes,\n",
    "                          normalize=False,\n",
    "                          title='Confusion matrix',\n",
    "                          cmap=plt.cm.Blues):\n",
    "    \"\"\"\n",
    "    See full source and example: \n",
    "    http://scikit-learn.org/stable/auto_examples/model_selection/plot_confusion_matrix.html\n",
    "    \n",
    "    This function prints and plots the confusion matrix.\n",
    "    Normalization can be applied by setting `normalize=True`.\n",
    "    \"\"\"\n",
    "    plt.imshow(cm, interpolation='nearest', cmap=cmap)\n",
    "    plt.title(title)\n",
    "    plt.colorbar()\n",
    "    tick_marks = np.arange(len(classes))\n",
    "    plt.xticks(tick_marks, classes, rotation=45)\n",
    "    plt.yticks(tick_marks, classes)\n",
    "\n",
    "    if normalize:\n",
    "        cm = cm.astype('float') / cm.sum(axis=1)[:, np.newaxis]\n",
    "        print(\"Normalized confusion matrix\")\n",
    "    else:\n",
    "        print('Confusion matrix, without normalization')\n",
    "\n",
    "    thresh = cm.max() / 2.\n",
    "    for i, j in itertools.product(range(cm.shape[0]), range(cm.shape[1])):\n",
    "        plt.text(j, i, cm[i, j],\n",
    "                 horizontalalignment=\"center\",\n",
    "                 color=\"white\" if cm[i, j] > thresh else \"black\")\n",
    "\n",
    "    plt.tight_layout()\n",
    "    plt.ylabel('True label')\n",
    "    plt.xlabel('Predicted label')"
   ]
  },
  {
   "cell_type": "code",
   "execution_count": 36,
   "id": "ac5687b8",
   "metadata": {},
   "outputs": [],
   "source": [
    "from sklearn import metrics\n",
    "import numpy as np\n",
    "import itertools\n",
    "\n",
    "models = {}\n",
    "\n",
    "#Support Vector Machine\n",
    "from sklearn import svm\n",
    "models['SVM'] = svm.SVC()\n",
    "\n",
    "\n",
    "# Support Vector Machines (Linear)\n",
    "from sklearn.svm import LinearSVC\n",
    "models['SVM-Linear'] = LinearSVC()\n",
    "\n",
    "# Naive Bayes Multinomial\n",
    "from sklearn.naive_bayes import MultinomialNB\n",
    "models['NB-Multinomial'] = MultinomialNB()\n",
    "\n",
    "# Naive Bayes Gaussian\n",
    "from sklearn.naive_bayes import GaussianNB\n",
    "models['NB-Gaussian'] = GaussianNB()\n",
    "\n",
    "# Passive Aggressive\n",
    "\n",
    "from sklearn.linear_model import PassiveAggressiveClassifier\n",
    "models['Passive Aggressive'] = PassiveAggressiveClassifier()\n",
    "\n",
    "# Logistic Regression\n",
    "from sklearn.linear_model import LogisticRegression\n",
    "models['Logistic Regression'] = LogisticRegression()\n",
    "\n",
    "# Decision Trees\n",
    "from sklearn.tree import DecisionTreeClassifier\n",
    "models['Decision Trees'] = DecisionTreeClassifier()\n",
    "\n",
    "# Random Forest\n",
    "from sklearn.ensemble import RandomForestClassifier\n",
    "models['Random Forest'] = RandomForestClassifier()\n",
    "\n",
    "\n",
    "# K-Nearest Neighbors\n",
    "from sklearn.neighbors import KNeighborsClassifier\n",
    "models['K-Nearest Neighbor'] = KNeighborsClassifier()\n",
    "\n"
   ]
  },
  {
   "cell_type": "code",
   "execution_count": 37,
   "id": "0c59cc32",
   "metadata": {},
   "outputs": [
    {
     "name": "stderr",
     "output_type": "stream",
     "text": [
      "/Users/mac/anaconda3/lib/python3.11/site-packages/sklearn/svm/_classes.py:32: FutureWarning: The default value of `dual` will change from `True` to `'auto'` in 1.5. Set the value of `dual` explicitly to suppress the warning.\n",
      "  warnings.warn(\n"
     ]
    },
    {
     "data": {
      "text/html": [
       "<div>\n",
       "<style scoped>\n",
       "    .dataframe tbody tr th:only-of-type {\n",
       "        vertical-align: middle;\n",
       "    }\n",
       "\n",
       "    .dataframe tbody tr th {\n",
       "        vertical-align: top;\n",
       "    }\n",
       "\n",
       "    .dataframe thead th {\n",
       "        text-align: right;\n",
       "    }\n",
       "</style>\n",
       "<table border=\"1\" class=\"dataframe\">\n",
       "  <thead>\n",
       "    <tr style=\"text-align: right;\">\n",
       "      <th></th>\n",
       "      <th>Accuracy</th>\n",
       "      <th>Precision</th>\n",
       "      <th>Recall</th>\n",
       "      <th>f1-score</th>\n",
       "    </tr>\n",
       "  </thead>\n",
       "  <tbody>\n",
       "    <tr>\n",
       "      <th>SVM</th>\n",
       "      <td>0.920044</td>\n",
       "      <td>0.916877</td>\n",
       "      <td>0.920044</td>\n",
       "      <td>0.913796</td>\n",
       "    </tr>\n",
       "    <tr>\n",
       "      <th>SVM-Linear</th>\n",
       "      <td>0.929484</td>\n",
       "      <td>0.926751</td>\n",
       "      <td>0.929484</td>\n",
       "      <td>0.927253</td>\n",
       "    </tr>\n",
       "    <tr>\n",
       "      <th>NB-Multinomial</th>\n",
       "      <td>0.851749</td>\n",
       "      <td>0.873987</td>\n",
       "      <td>0.851749</td>\n",
       "      <td>0.793709</td>\n",
       "    </tr>\n",
       "    <tr>\n",
       "      <th>NB-Gaussian</th>\n",
       "      <td>0.644642</td>\n",
       "      <td>0.800132</td>\n",
       "      <td>0.644642</td>\n",
       "      <td>0.691200</td>\n",
       "    </tr>\n",
       "    <tr>\n",
       "      <th>Passive Aggressive</th>\n",
       "      <td>0.921710</td>\n",
       "      <td>0.921386</td>\n",
       "      <td>0.921710</td>\n",
       "      <td>0.921544</td>\n",
       "    </tr>\n",
       "    <tr>\n",
       "      <th>Logistic Regression</th>\n",
       "      <td>0.911160</td>\n",
       "      <td>0.907087</td>\n",
       "      <td>0.911160</td>\n",
       "      <td>0.902849</td>\n",
       "    </tr>\n",
       "    <tr>\n",
       "      <th>Decision Trees</th>\n",
       "      <td>0.894503</td>\n",
       "      <td>0.888837</td>\n",
       "      <td>0.894503</td>\n",
       "      <td>0.890715</td>\n",
       "    </tr>\n",
       "    <tr>\n",
       "      <th>Random Forest</th>\n",
       "      <td>0.911716</td>\n",
       "      <td>0.914023</td>\n",
       "      <td>0.911716</td>\n",
       "      <td>0.899373</td>\n",
       "    </tr>\n",
       "    <tr>\n",
       "      <th>K-Nearest Neighbor</th>\n",
       "      <td>0.887840</td>\n",
       "      <td>0.877975</td>\n",
       "      <td>0.887840</td>\n",
       "      <td>0.877853</td>\n",
       "    </tr>\n",
       "  </tbody>\n",
       "</table>\n",
       "</div>"
      ],
      "text/plain": [
       "                     Accuracy  Precision    Recall  f1-score\n",
       "SVM                  0.920044   0.916877  0.920044  0.913796\n",
       "SVM-Linear           0.929484   0.926751  0.929484  0.927253\n",
       "NB-Multinomial       0.851749   0.873987  0.851749  0.793709\n",
       "NB-Gaussian          0.644642   0.800132  0.644642  0.691200\n",
       "Passive Aggressive   0.921710   0.921386  0.921710  0.921544\n",
       "Logistic Regression  0.911160   0.907087  0.911160  0.902849\n",
       "Decision Trees       0.894503   0.888837  0.894503  0.890715\n",
       "Random Forest        0.911716   0.914023  0.911716  0.899373\n",
       "K-Nearest Neighbor   0.887840   0.877975  0.887840  0.877853"
      ]
     },
     "execution_count": 37,
     "metadata": {},
     "output_type": "execute_result"
    }
   ],
   "source": [
    "from sklearn.metrics import accuracy_score, precision_score, recall_score, f1_score, confusion_matrix\n",
    "\n",
    "accuracy, precision, recall, f1 = {}, {}, {}, {}\n",
    "\n",
    "for key in models.keys():\n",
    "    \n",
    "    # Fit all the classifier models\n",
    "    models[key].fit(X_train, y_train)\n",
    "    \n",
    "    # For all the Prediction \n",
    "    predictions = models[key].predict(X_test)\n",
    "    \n",
    "    # Foe calculating Accuracy, Precision, Recall and f1-score Metrics\n",
    "    accuracy[key] = accuracy_score(y_test,predictions)\n",
    "    precision[key] = precision_score(y_test,predictions,average='weighted')#average='weighted'\n",
    "    recall[key] = recall_score(y_test,predictions,average='weighted')\n",
    "    f1[key] = f1_score(y_test,predictions,average='weighted')\n",
    "    \n",
    "#Data in dataframe for visualization\n",
    "df_model = pd.DataFrame(index=models.keys(), columns=['Accuracy', 'Precision', 'Recall','f1-score'])\n",
    "df_model['Accuracy'] = accuracy.values()\n",
    "df_model['Precision'] = precision.values()\n",
    "df_model['Recall'] = recall.values()\n",
    "df_model['f1-score'] = f1.values()\n",
    "\n",
    "df_model"
   ]
  },
  {
   "cell_type": "code",
   "execution_count": 38,
   "id": "8eba87d3",
   "metadata": {},
   "outputs": [
    {
     "data": {
      "image/png": "[encoded data removed]",
      "text/plain": [
       "<Figure size 640x480 with 1 Axes>"
      ]
     },
     "metadata": {},
     "output_type": "display_data"
    }
   ],
   "source": [
    "#For graphical representation of performance of classifiers.\n",
    "import matplotlib.pyplot as plt\n",
    "ax  = df_model.plot.bar(rot=45)\n",
    "ax.legend(ncol= len(models.keys()), bbox_to_anchor=(0, 1), loc='lower left', prop={'size': 5})\n",
    "plt.tight_layout()"
   ]
  },
  {
   "cell_type": "code",
   "execution_count": null,
   "id": "8b83289f",
   "metadata": {},
   "outputs": [],
   "source": []
  }
 ],
 "metadata": {
  "kernelspec": {
   "display_name": "Python 3 (ipykernel)",
   "language": "python",
   "name": "python3"
  },
  "language_info": {
   "codemirror_mode": {
    "name": "ipython",
    "version": 3
   },
   "file_extension": ".py",
   "mimetype": "text/x-python",
   "name": "python",
   "nbconvert_exporter": "python",
   "pygments_lexer": "ipython3",
   "version": "3.11.4"
  }
 },
 "nbformat": 4,
 "nbformat_minor": 5
}
